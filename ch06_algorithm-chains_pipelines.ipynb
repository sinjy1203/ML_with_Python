{
 "cells": [
  {
   "cell_type": "code",
   "execution_count": 1,
   "id": "bd7349db",
   "metadata": {},
   "outputs": [],
   "source": [
    "import matplotlib\n",
    "matplotlib.rc('font', family='NanumBarunGothic')\n",
    "matplotlib.rcParams['axes.unicode_minus'] = False\n",
    "import warnings\n",
    "warnings.filterwarnings('ignore')"
   ]
  },
  {
   "cell_type": "code",
   "execution_count": 2,
   "id": "96aad589",
   "metadata": {},
   "outputs": [],
   "source": [
    "from sklearn.svm import SVC\n",
    "from sklearn.datasets import load_breast_cancer\n",
    "from sklearn.model_selection import train_test_split\n",
    "from sklearn.preprocessing import MinMaxScaler\n",
    "\n",
    "cancer = load_breast_cancer()\n",
    "X_train, X_test, y_train, y_test = train_test_split(\n",
    "    cancer.data, cancer.target, random_state=0)"
   ]
  },
  {
   "cell_type": "code",
   "execution_count": 3,
   "id": "145ccc00",
   "metadata": {},
   "outputs": [
    {
     "data": {
      "text/plain": [
       "array([0, 1])"
      ]
     },
     "execution_count": 3,
     "metadata": {},
     "output_type": "execute_result"
    }
   ],
   "source": [
    "import numpy as np\n",
    "np.unique(y_train)"
   ]
  },
  {
   "cell_type": "code",
   "execution_count": 4,
   "id": "5e0c428b",
   "metadata": {},
   "outputs": [],
   "source": [
    "scaler = MinMaxScaler().fit(X_train)"
   ]
  },
  {
   "cell_type": "code",
   "execution_count": 5,
   "id": "ab9b030e",
   "metadata": {},
   "outputs": [
    {
     "data": {
      "text/plain": [
       "0.972027972027972"
      ]
     },
     "execution_count": 5,
     "metadata": {},
     "output_type": "execute_result"
    }
   ],
   "source": [
    "X_train_scaled = scaler.transform(X_train)\n",
    "\n",
    "svm = SVC()\n",
    "svm.fit(X_train_scaled, y_train)\n",
    "X_test_scaled = scaler.transform(X_test)\n",
    "svm.score(X_test_scaled, y_test)"
   ]
  },
  {
   "cell_type": "markdown",
   "id": "531080dc",
   "metadata": {},
   "source": [
    "## 데이터 전처리 & 매개변수 선택"
   ]
  },
  {
   "cell_type": "code",
   "execution_count": 6,
   "id": "e358c709",
   "metadata": {},
   "outputs": [
    {
     "data": {
      "text/plain": [
       "(0.9812311901504789, 0.972027972027972, {'C': 1, 'gamma': 1})"
      ]
     },
     "execution_count": 6,
     "metadata": {},
     "output_type": "execute_result"
    }
   ],
   "source": [
    "from sklearn.model_selection import GridSearchCV\n",
    "param_grid = {'C': [0.001, 0.01, 0.1, 1, 10, 100], \n",
    "             'gamma': [0.001, 0.01, 0.1, 1, 10, 100]}\n",
    "grid = GridSearchCV(SVC(), param_grid=param_grid, cv=5)\n",
    "grid.fit(X_train_scaled, y_train)\n",
    "grid.best_score_, grid.score(X_test_scaled, y_test), grid.best_params_"
   ]
  },
  {
   "cell_type": "markdown",
   "id": "6a36be55",
   "metadata": {},
   "source": [
    "## pipeline"
   ]
  },
  {
   "cell_type": "code",
   "execution_count": 7,
   "id": "7e01617e",
   "metadata": {},
   "outputs": [],
   "source": [
    "from sklearn.pipeline import Pipeline\n",
    "pipe = Pipeline([(\"scaler\", MinMaxScaler()), (\"svm\", SVC())])"
   ]
  },
  {
   "cell_type": "code",
   "execution_count": 8,
   "id": "863c0250",
   "metadata": {},
   "outputs": [
    {
     "data": {
      "text/plain": [
       "Pipeline(steps=[('scaler', MinMaxScaler()), ('svm', SVC())])"
      ]
     },
     "execution_count": 8,
     "metadata": {},
     "output_type": "execute_result"
    }
   ],
   "source": [
    "pipe.fit(X_train, y_train)"
   ]
  },
  {
   "cell_type": "code",
   "execution_count": 9,
   "id": "832bcd8b",
   "metadata": {},
   "outputs": [
    {
     "data": {
      "text/plain": [
       "0.972027972027972"
      ]
     },
     "execution_count": 9,
     "metadata": {},
     "output_type": "execute_result"
    }
   ],
   "source": [
    "pipe.score(X_test, y_test)"
   ]
  },
  {
   "cell_type": "markdown",
   "id": "55fabc05",
   "metadata": {},
   "source": [
    "## grid-search & pipeline"
   ]
  },
  {
   "cell_type": "code",
   "execution_count": 10,
   "id": "d1581b9b",
   "metadata": {},
   "outputs": [],
   "source": [
    "param_grid = {'svm__C': [0.001, 0.01, 0.1, 1, 10, 100], \n",
    "             'svm__gamma': [0.001, 0.01, 0.1, 1, 10, 100]}"
   ]
  },
  {
   "cell_type": "code",
   "execution_count": 11,
   "id": "55d5d48a",
   "metadata": {},
   "outputs": [
    {
     "data": {
      "text/plain": [
       "(0.9812311901504789, 0.972027972027972, {'svm__C': 1, 'svm__gamma': 1})"
      ]
     },
     "execution_count": 11,
     "metadata": {},
     "output_type": "execute_result"
    }
   ],
   "source": [
    "grid = GridSearchCV(pipe, param_grid=param_grid, cv=5)\n",
    "grid.fit(X_train, y_train)\n",
    "grid.best_score_, grid.score(X_test, y_test), grid.best_params_"
   ]
  },
  {
   "cell_type": "code",
   "execution_count": 12,
   "id": "e833381c",
   "metadata": {},
   "outputs": [],
   "source": [
    "rnd = np.random.RandomState(seed=0)\n",
    "X = rnd.normal(size=(100, 10000))\n",
    "y = rnd.normal(size=(100, ))"
   ]
  },
  {
   "cell_type": "code",
   "execution_count": 13,
   "id": "4b24c19e",
   "metadata": {},
   "outputs": [],
   "source": [
    "from sklearn.feature_selection import SelectPercentile, f_regression\n",
    "\n",
    "select = SelectPercentile(score_func=f_regression, percentile=5).fit(X, y)\n",
    "X_selected = select.transform(X)"
   ]
  },
  {
   "cell_type": "code",
   "execution_count": 14,
   "id": "d376cf09",
   "metadata": {},
   "outputs": [
    {
     "data": {
      "text/plain": [
       "(100, 500)"
      ]
     },
     "execution_count": 14,
     "metadata": {},
     "output_type": "execute_result"
    }
   ],
   "source": [
    "X_selected.shape"
   ]
  },
  {
   "cell_type": "code",
   "execution_count": 15,
   "id": "bf640abe",
   "metadata": {},
   "outputs": [
    {
     "data": {
      "text/plain": [
       "0.9057953065239822"
      ]
     },
     "execution_count": 15,
     "metadata": {},
     "output_type": "execute_result"
    }
   ],
   "source": [
    "from sklearn.model_selection import cross_val_score\n",
    "from sklearn.linear_model import Ridge\n",
    "np.mean(cross_val_score(Ridge(), X_selected, y, cv=5))"
   ]
  },
  {
   "cell_type": "code",
   "execution_count": 16,
   "id": "e335f3c9",
   "metadata": {},
   "outputs": [
    {
     "data": {
      "text/plain": [
       "-0.2465542238495281"
      ]
     },
     "execution_count": 16,
     "metadata": {},
     "output_type": "execute_result"
    }
   ],
   "source": [
    "pipe = Pipeline([('select', SelectPercentile(score_func=f_regression, \n",
    "                                            percentile=5)), \n",
    "                ('ridge', Ridge())])\n",
    "np.mean(cross_val_score(pipe, X, y, cv=5))"
   ]
  },
  {
   "cell_type": "code",
   "execution_count": 17,
   "id": "a39179ca",
   "metadata": {},
   "outputs": [
    {
     "data": {
      "text/html": [
       "<style>#sk-57125e18-8500-4235-a6bc-dcc2b04d174b {color: black;background-color: white;}#sk-57125e18-8500-4235-a6bc-dcc2b04d174b pre{padding: 0;}#sk-57125e18-8500-4235-a6bc-dcc2b04d174b div.sk-toggleable {background-color: white;}#sk-57125e18-8500-4235-a6bc-dcc2b04d174b label.sk-toggleable__label {cursor: pointer;display: block;width: 100%;margin-bottom: 0;padding: 0.3em;box-sizing: border-box;text-align: center;}#sk-57125e18-8500-4235-a6bc-dcc2b04d174b label.sk-toggleable__label-arrow:before {content: \"▸\";float: left;margin-right: 0.25em;color: #696969;}#sk-57125e18-8500-4235-a6bc-dcc2b04d174b label.sk-toggleable__label-arrow:hover:before {color: black;}#sk-57125e18-8500-4235-a6bc-dcc2b04d174b div.sk-estimator:hover label.sk-toggleable__label-arrow:before {color: black;}#sk-57125e18-8500-4235-a6bc-dcc2b04d174b div.sk-toggleable__content {max-height: 0;max-width: 0;overflow: hidden;text-align: left;background-color: #f0f8ff;}#sk-57125e18-8500-4235-a6bc-dcc2b04d174b div.sk-toggleable__content pre {margin: 0.2em;color: black;border-radius: 0.25em;background-color: #f0f8ff;}#sk-57125e18-8500-4235-a6bc-dcc2b04d174b input.sk-toggleable__control:checked~div.sk-toggleable__content {max-height: 200px;max-width: 100%;overflow: auto;}#sk-57125e18-8500-4235-a6bc-dcc2b04d174b input.sk-toggleable__control:checked~label.sk-toggleable__label-arrow:before {content: \"▾\";}#sk-57125e18-8500-4235-a6bc-dcc2b04d174b div.sk-estimator input.sk-toggleable__control:checked~label.sk-toggleable__label {background-color: #d4ebff;}#sk-57125e18-8500-4235-a6bc-dcc2b04d174b div.sk-label input.sk-toggleable__control:checked~label.sk-toggleable__label {background-color: #d4ebff;}#sk-57125e18-8500-4235-a6bc-dcc2b04d174b input.sk-hidden--visually {border: 0;clip: rect(1px 1px 1px 1px);clip: rect(1px, 1px, 1px, 1px);height: 1px;margin: -1px;overflow: hidden;padding: 0;position: absolute;width: 1px;}#sk-57125e18-8500-4235-a6bc-dcc2b04d174b div.sk-estimator {font-family: monospace;background-color: #f0f8ff;border: 1px dotted black;border-radius: 0.25em;box-sizing: border-box;margin-bottom: 0.5em;}#sk-57125e18-8500-4235-a6bc-dcc2b04d174b div.sk-estimator:hover {background-color: #d4ebff;}#sk-57125e18-8500-4235-a6bc-dcc2b04d174b div.sk-parallel-item::after {content: \"\";width: 100%;border-bottom: 1px solid gray;flex-grow: 1;}#sk-57125e18-8500-4235-a6bc-dcc2b04d174b div.sk-label:hover label.sk-toggleable__label {background-color: #d4ebff;}#sk-57125e18-8500-4235-a6bc-dcc2b04d174b div.sk-serial::before {content: \"\";position: absolute;border-left: 1px solid gray;box-sizing: border-box;top: 2em;bottom: 0;left: 50%;}#sk-57125e18-8500-4235-a6bc-dcc2b04d174b div.sk-serial {display: flex;flex-direction: column;align-items: center;background-color: white;padding-right: 0.2em;padding-left: 0.2em;}#sk-57125e18-8500-4235-a6bc-dcc2b04d174b div.sk-item {z-index: 1;}#sk-57125e18-8500-4235-a6bc-dcc2b04d174b div.sk-parallel {display: flex;align-items: stretch;justify-content: center;background-color: white;}#sk-57125e18-8500-4235-a6bc-dcc2b04d174b div.sk-parallel::before {content: \"\";position: absolute;border-left: 1px solid gray;box-sizing: border-box;top: 2em;bottom: 0;left: 50%;}#sk-57125e18-8500-4235-a6bc-dcc2b04d174b div.sk-parallel-item {display: flex;flex-direction: column;position: relative;background-color: white;}#sk-57125e18-8500-4235-a6bc-dcc2b04d174b div.sk-parallel-item:first-child::after {align-self: flex-end;width: 50%;}#sk-57125e18-8500-4235-a6bc-dcc2b04d174b div.sk-parallel-item:last-child::after {align-self: flex-start;width: 50%;}#sk-57125e18-8500-4235-a6bc-dcc2b04d174b div.sk-parallel-item:only-child::after {width: 0;}#sk-57125e18-8500-4235-a6bc-dcc2b04d174b div.sk-dashed-wrapped {border: 1px dashed gray;margin: 0 0.4em 0.5em 0.4em;box-sizing: border-box;padding-bottom: 0.4em;background-color: white;position: relative;}#sk-57125e18-8500-4235-a6bc-dcc2b04d174b div.sk-label label {font-family: monospace;font-weight: bold;background-color: white;display: inline-block;line-height: 1.2em;}#sk-57125e18-8500-4235-a6bc-dcc2b04d174b div.sk-label-container {position: relative;z-index: 2;text-align: center;}#sk-57125e18-8500-4235-a6bc-dcc2b04d174b div.sk-container {/* jupyter's `normalize.less` sets `[hidden] { display: none; }` but bootstrap.min.css set `[hidden] { display: none !important; }` so we also need the `!important` here to be able to override the default hidden behavior on the sphinx rendered scikit-learn.org. See: https://github.com/scikit-learn/scikit-learn/issues/21755 */display: inline-block !important;position: relative;}#sk-57125e18-8500-4235-a6bc-dcc2b04d174b div.sk-text-repr-fallback {display: none;}</style><div id=\"sk-57125e18-8500-4235-a6bc-dcc2b04d174b\" class=\"sk-top-container\"><div class=\"sk-text-repr-fallback\"><pre>Pipeline(steps=[(&#x27;select&#x27;,\n",
       "                 SelectPercentile(percentile=5,\n",
       "                                  score_func=&lt;function f_regression at 0x000001391843F798&gt;)),\n",
       "                (&#x27;ridge&#x27;, Ridge())])</pre><b>Please rerun this cell to show the HTML repr or trust the notebook.</b></div><div class=\"sk-container\" hidden><div class=\"sk-item sk-dashed-wrapped\"><div class=\"sk-label-container\"><div class=\"sk-label sk-toggleable\"><input class=\"sk-toggleable__control sk-hidden--visually\" id=\"07b60d07-6cbc-4c81-9cac-777640949359\" type=\"checkbox\" ><label for=\"07b60d07-6cbc-4c81-9cac-777640949359\" class=\"sk-toggleable__label sk-toggleable__label-arrow\">Pipeline</label><div class=\"sk-toggleable__content\"><pre>Pipeline(steps=[(&#x27;select&#x27;,\n",
       "                 SelectPercentile(percentile=5,\n",
       "                                  score_func=&lt;function f_regression at 0x000001391843F798&gt;)),\n",
       "                (&#x27;ridge&#x27;, Ridge())])</pre></div></div></div><div class=\"sk-serial\"><div class=\"sk-item\"><div class=\"sk-estimator sk-toggleable\"><input class=\"sk-toggleable__control sk-hidden--visually\" id=\"38580834-02ee-455e-9c88-303975a1ca16\" type=\"checkbox\" ><label for=\"38580834-02ee-455e-9c88-303975a1ca16\" class=\"sk-toggleable__label sk-toggleable__label-arrow\">SelectPercentile</label><div class=\"sk-toggleable__content\"><pre>SelectPercentile(percentile=5,\n",
       "                 score_func=&lt;function f_regression at 0x000001391843F798&gt;)</pre></div></div></div><div class=\"sk-item\"><div class=\"sk-estimator sk-toggleable\"><input class=\"sk-toggleable__control sk-hidden--visually\" id=\"8b8781e5-1423-4871-872d-78f4eb3afbb7\" type=\"checkbox\" ><label for=\"8b8781e5-1423-4871-872d-78f4eb3afbb7\" class=\"sk-toggleable__label sk-toggleable__label-arrow\">Ridge</label><div class=\"sk-toggleable__content\"><pre>Ridge()</pre></div></div></div></div></div></div></div>"
      ],
      "text/plain": [
       "Pipeline(steps=[('select',\n",
       "                 SelectPercentile(percentile=5,\n",
       "                                  score_func=<function f_regression at 0x000001391843F798>)),\n",
       "                ('ridge', Ridge())])"
      ]
     },
     "execution_count": 17,
     "metadata": {},
     "output_type": "execute_result"
    }
   ],
   "source": [
    "from sklearn import set_config\n",
    "\n",
    "set_config(display='diagram')\n",
    "pipe"
   ]
  },
  {
   "cell_type": "code",
   "execution_count": 18,
   "id": "7d67d91a",
   "metadata": {},
   "outputs": [],
   "source": [
    "from sklearn.pipeline import make_pipeline\n",
    "pipe_short = make_pipeline(MinMaxScaler(), SVC(C=100))"
   ]
  },
  {
   "cell_type": "code",
   "execution_count": 19,
   "id": "1e6dbc3b",
   "metadata": {},
   "outputs": [
    {
     "data": {
      "text/plain": [
       "[('minmaxscaler', MinMaxScaler()), ('svc', SVC(C=100))]"
      ]
     },
     "execution_count": 19,
     "metadata": {},
     "output_type": "execute_result"
    }
   ],
   "source": [
    "pipe_short.steps"
   ]
  },
  {
   "cell_type": "code",
   "execution_count": 21,
   "id": "ee8147c8",
   "metadata": {},
   "outputs": [
    {
     "data": {
      "text/plain": [
       "[('standardscaler-1', StandardScaler()),\n",
       " ('pca', PCA(n_components=2)),\n",
       " ('standardscaler-2', StandardScaler())]"
      ]
     },
     "execution_count": 21,
     "metadata": {},
     "output_type": "execute_result"
    }
   ],
   "source": [
    "from sklearn.preprocessing import StandardScaler\n",
    "from sklearn.decomposition import PCA\n",
    "pipe = make_pipeline(StandardScaler(), PCA(n_components=2), StandardScaler())\n",
    "pipe.steps"
   ]
  },
  {
   "cell_type": "code",
   "execution_count": 22,
   "id": "f18d6922",
   "metadata": {},
   "outputs": [
    {
     "data": {
      "text/plain": [
       "array([[ 0.21890244,  0.10372458,  0.22753729,  0.22099499,  0.14258969,\n",
       "         0.23928535,  0.25840048,  0.26085376,  0.13816696,  0.06436335,\n",
       "         0.20597878,  0.01742803,  0.21132592,  0.20286964,  0.01453145,\n",
       "         0.17039345,  0.15358979,  0.1834174 ,  0.04249842,  0.10256832,\n",
       "         0.22799663,  0.10446933,  0.23663968,  0.22487053,  0.12795256,\n",
       "         0.21009588,  0.22876753,  0.25088597,  0.12290456,  0.13178394],\n",
       "       [-0.23385713, -0.05970609, -0.21518136, -0.23107671,  0.18611302,\n",
       "         0.15189161,  0.06016536, -0.0347675 ,  0.19034877,  0.36657547,\n",
       "        -0.10555215,  0.08997968, -0.08945723, -0.15229263,  0.20443045,\n",
       "         0.2327159 ,  0.19720728,  0.13032156,  0.183848  ,  0.28009203,\n",
       "        -0.21986638, -0.0454673 , -0.19987843, -0.21935186,  0.17230435,\n",
       "         0.14359317,  0.09796411, -0.00825724,  0.14188335,  0.27533947]])"
      ]
     },
     "execution_count": 22,
     "metadata": {},
     "output_type": "execute_result"
    }
   ],
   "source": [
    "pipe.fit(cancer.data)\n",
    "components = pipe.named_steps['pca'].components_\n",
    "components"
   ]
  },
  {
   "cell_type": "code",
   "execution_count": 23,
   "id": "9a29c664",
   "metadata": {},
   "outputs": [
    {
     "data": {
      "text/plain": [
       "(569, 30)"
      ]
     },
     "execution_count": 23,
     "metadata": {},
     "output_type": "execute_result"
    }
   ],
   "source": [
    "cancer.data.shape"
   ]
  },
  {
   "cell_type": "code",
   "execution_count": 24,
   "id": "7db3751f",
   "metadata": {},
   "outputs": [],
   "source": [
    "from sklearn.linear_model import LogisticRegression\n",
    "pipe = make_pipeline(StandardScaler(), LogisticRegression(max_iter=1000))"
   ]
  },
  {
   "cell_type": "code",
   "execution_count": 25,
   "id": "5426e26a",
   "metadata": {},
   "outputs": [],
   "source": [
    "param_grid = {'logisticregression__C': [0.01, 0.1, 1, 10, 100]}"
   ]
  },
  {
   "cell_type": "code",
   "execution_count": 26,
   "id": "e599a795",
   "metadata": {},
   "outputs": [
    {
     "data": {
      "text/html": [
       "<style>#sk-184f4064-364d-402d-8a49-dd9adb0cefd3 {color: black;background-color: white;}#sk-184f4064-364d-402d-8a49-dd9adb0cefd3 pre{padding: 0;}#sk-184f4064-364d-402d-8a49-dd9adb0cefd3 div.sk-toggleable {background-color: white;}#sk-184f4064-364d-402d-8a49-dd9adb0cefd3 label.sk-toggleable__label {cursor: pointer;display: block;width: 100%;margin-bottom: 0;padding: 0.3em;box-sizing: border-box;text-align: center;}#sk-184f4064-364d-402d-8a49-dd9adb0cefd3 label.sk-toggleable__label-arrow:before {content: \"▸\";float: left;margin-right: 0.25em;color: #696969;}#sk-184f4064-364d-402d-8a49-dd9adb0cefd3 label.sk-toggleable__label-arrow:hover:before {color: black;}#sk-184f4064-364d-402d-8a49-dd9adb0cefd3 div.sk-estimator:hover label.sk-toggleable__label-arrow:before {color: black;}#sk-184f4064-364d-402d-8a49-dd9adb0cefd3 div.sk-toggleable__content {max-height: 0;max-width: 0;overflow: hidden;text-align: left;background-color: #f0f8ff;}#sk-184f4064-364d-402d-8a49-dd9adb0cefd3 div.sk-toggleable__content pre {margin: 0.2em;color: black;border-radius: 0.25em;background-color: #f0f8ff;}#sk-184f4064-364d-402d-8a49-dd9adb0cefd3 input.sk-toggleable__control:checked~div.sk-toggleable__content {max-height: 200px;max-width: 100%;overflow: auto;}#sk-184f4064-364d-402d-8a49-dd9adb0cefd3 input.sk-toggleable__control:checked~label.sk-toggleable__label-arrow:before {content: \"▾\";}#sk-184f4064-364d-402d-8a49-dd9adb0cefd3 div.sk-estimator input.sk-toggleable__control:checked~label.sk-toggleable__label {background-color: #d4ebff;}#sk-184f4064-364d-402d-8a49-dd9adb0cefd3 div.sk-label input.sk-toggleable__control:checked~label.sk-toggleable__label {background-color: #d4ebff;}#sk-184f4064-364d-402d-8a49-dd9adb0cefd3 input.sk-hidden--visually {border: 0;clip: rect(1px 1px 1px 1px);clip: rect(1px, 1px, 1px, 1px);height: 1px;margin: -1px;overflow: hidden;padding: 0;position: absolute;width: 1px;}#sk-184f4064-364d-402d-8a49-dd9adb0cefd3 div.sk-estimator {font-family: monospace;background-color: #f0f8ff;border: 1px dotted black;border-radius: 0.25em;box-sizing: border-box;margin-bottom: 0.5em;}#sk-184f4064-364d-402d-8a49-dd9adb0cefd3 div.sk-estimator:hover {background-color: #d4ebff;}#sk-184f4064-364d-402d-8a49-dd9adb0cefd3 div.sk-parallel-item::after {content: \"\";width: 100%;border-bottom: 1px solid gray;flex-grow: 1;}#sk-184f4064-364d-402d-8a49-dd9adb0cefd3 div.sk-label:hover label.sk-toggleable__label {background-color: #d4ebff;}#sk-184f4064-364d-402d-8a49-dd9adb0cefd3 div.sk-serial::before {content: \"\";position: absolute;border-left: 1px solid gray;box-sizing: border-box;top: 2em;bottom: 0;left: 50%;}#sk-184f4064-364d-402d-8a49-dd9adb0cefd3 div.sk-serial {display: flex;flex-direction: column;align-items: center;background-color: white;padding-right: 0.2em;padding-left: 0.2em;}#sk-184f4064-364d-402d-8a49-dd9adb0cefd3 div.sk-item {z-index: 1;}#sk-184f4064-364d-402d-8a49-dd9adb0cefd3 div.sk-parallel {display: flex;align-items: stretch;justify-content: center;background-color: white;}#sk-184f4064-364d-402d-8a49-dd9adb0cefd3 div.sk-parallel::before {content: \"\";position: absolute;border-left: 1px solid gray;box-sizing: border-box;top: 2em;bottom: 0;left: 50%;}#sk-184f4064-364d-402d-8a49-dd9adb0cefd3 div.sk-parallel-item {display: flex;flex-direction: column;position: relative;background-color: white;}#sk-184f4064-364d-402d-8a49-dd9adb0cefd3 div.sk-parallel-item:first-child::after {align-self: flex-end;width: 50%;}#sk-184f4064-364d-402d-8a49-dd9adb0cefd3 div.sk-parallel-item:last-child::after {align-self: flex-start;width: 50%;}#sk-184f4064-364d-402d-8a49-dd9adb0cefd3 div.sk-parallel-item:only-child::after {width: 0;}#sk-184f4064-364d-402d-8a49-dd9adb0cefd3 div.sk-dashed-wrapped {border: 1px dashed gray;margin: 0 0.4em 0.5em 0.4em;box-sizing: border-box;padding-bottom: 0.4em;background-color: white;position: relative;}#sk-184f4064-364d-402d-8a49-dd9adb0cefd3 div.sk-label label {font-family: monospace;font-weight: bold;background-color: white;display: inline-block;line-height: 1.2em;}#sk-184f4064-364d-402d-8a49-dd9adb0cefd3 div.sk-label-container {position: relative;z-index: 2;text-align: center;}#sk-184f4064-364d-402d-8a49-dd9adb0cefd3 div.sk-container {/* jupyter's `normalize.less` sets `[hidden] { display: none; }` but bootstrap.min.css set `[hidden] { display: none !important; }` so we also need the `!important` here to be able to override the default hidden behavior on the sphinx rendered scikit-learn.org. See: https://github.com/scikit-learn/scikit-learn/issues/21755 */display: inline-block !important;position: relative;}#sk-184f4064-364d-402d-8a49-dd9adb0cefd3 div.sk-text-repr-fallback {display: none;}</style><div id=\"sk-184f4064-364d-402d-8a49-dd9adb0cefd3\" class=\"sk-top-container\"><div class=\"sk-text-repr-fallback\"><pre>GridSearchCV(cv=5,\n",
       "             estimator=Pipeline(steps=[(&#x27;standardscaler&#x27;, StandardScaler()),\n",
       "                                       (&#x27;logisticregression&#x27;,\n",
       "                                        LogisticRegression(max_iter=1000))]),\n",
       "             param_grid={&#x27;logisticregression__C&#x27;: [0.01, 0.1, 1, 10, 100]})</pre><b>Please rerun this cell to show the HTML repr or trust the notebook.</b></div><div class=\"sk-container\" hidden><div class=\"sk-item sk-dashed-wrapped\"><div class=\"sk-label-container\"><div class=\"sk-label sk-toggleable\"><input class=\"sk-toggleable__control sk-hidden--visually\" id=\"1b225e3c-0d56-4d8a-9100-050ec60c79c3\" type=\"checkbox\" ><label for=\"1b225e3c-0d56-4d8a-9100-050ec60c79c3\" class=\"sk-toggleable__label sk-toggleable__label-arrow\">GridSearchCV</label><div class=\"sk-toggleable__content\"><pre>GridSearchCV(cv=5,\n",
       "             estimator=Pipeline(steps=[(&#x27;standardscaler&#x27;, StandardScaler()),\n",
       "                                       (&#x27;logisticregression&#x27;,\n",
       "                                        LogisticRegression(max_iter=1000))]),\n",
       "             param_grid={&#x27;logisticregression__C&#x27;: [0.01, 0.1, 1, 10, 100]})</pre></div></div></div><div class=\"sk-parallel\"><div class=\"sk-parallel-item\"><div class=\"sk-item\"><div class=\"sk-serial\"><div class=\"sk-item\"><div class=\"sk-serial\"><div class=\"sk-item\"><div class=\"sk-estimator sk-toggleable\"><input class=\"sk-toggleable__control sk-hidden--visually\" id=\"0c7b15aa-4430-4ed4-9938-d44f6876dc94\" type=\"checkbox\" ><label for=\"0c7b15aa-4430-4ed4-9938-d44f6876dc94\" class=\"sk-toggleable__label sk-toggleable__label-arrow\">StandardScaler</label><div class=\"sk-toggleable__content\"><pre>StandardScaler()</pre></div></div></div><div class=\"sk-item\"><div class=\"sk-estimator sk-toggleable\"><input class=\"sk-toggleable__control sk-hidden--visually\" id=\"b4b93db9-a2f3-4223-896b-30cdc1f7bd9e\" type=\"checkbox\" ><label for=\"b4b93db9-a2f3-4223-896b-30cdc1f7bd9e\" class=\"sk-toggleable__label sk-toggleable__label-arrow\">LogisticRegression</label><div class=\"sk-toggleable__content\"><pre>LogisticRegression(max_iter=1000)</pre></div></div></div></div></div></div></div></div></div></div></div></div>"
      ],
      "text/plain": [
       "GridSearchCV(cv=5,\n",
       "             estimator=Pipeline(steps=[('standardscaler', StandardScaler()),\n",
       "                                       ('logisticregression',\n",
       "                                        LogisticRegression(max_iter=1000))]),\n",
       "             param_grid={'logisticregression__C': [0.01, 0.1, 1, 10, 100]})"
      ]
     },
     "execution_count": 26,
     "metadata": {},
     "output_type": "execute_result"
    }
   ],
   "source": [
    "X_train, X_test, y_train, y_test = train_test_split(\n",
    "    cancer.data, cancer.target, random_state=4)\n",
    "grid = GridSearchCV(pipe, param_grid, cv=5)\n",
    "grid.fit(X_train, y_train)"
   ]
  },
  {
   "cell_type": "code",
   "execution_count": 28,
   "id": "c2b90e7f",
   "metadata": {},
   "outputs": [
    {
     "data": {
      "text/plain": [
       "{'logisticregression__C': 1}"
      ]
     },
     "execution_count": 28,
     "metadata": {},
     "output_type": "execute_result"
    }
   ],
   "source": [
    "grid.best_params_"
   ]
  },
  {
   "cell_type": "code",
   "execution_count": 29,
   "id": "ea127b0d",
   "metadata": {},
   "outputs": [
    {
     "data": {
      "text/html": [
       "<style>#sk-abf420d9-0ef4-464b-83eb-3bbf3480f87a {color: black;background-color: white;}#sk-abf420d9-0ef4-464b-83eb-3bbf3480f87a pre{padding: 0;}#sk-abf420d9-0ef4-464b-83eb-3bbf3480f87a div.sk-toggleable {background-color: white;}#sk-abf420d9-0ef4-464b-83eb-3bbf3480f87a label.sk-toggleable__label {cursor: pointer;display: block;width: 100%;margin-bottom: 0;padding: 0.3em;box-sizing: border-box;text-align: center;}#sk-abf420d9-0ef4-464b-83eb-3bbf3480f87a label.sk-toggleable__label-arrow:before {content: \"▸\";float: left;margin-right: 0.25em;color: #696969;}#sk-abf420d9-0ef4-464b-83eb-3bbf3480f87a label.sk-toggleable__label-arrow:hover:before {color: black;}#sk-abf420d9-0ef4-464b-83eb-3bbf3480f87a div.sk-estimator:hover label.sk-toggleable__label-arrow:before {color: black;}#sk-abf420d9-0ef4-464b-83eb-3bbf3480f87a div.sk-toggleable__content {max-height: 0;max-width: 0;overflow: hidden;text-align: left;background-color: #f0f8ff;}#sk-abf420d9-0ef4-464b-83eb-3bbf3480f87a div.sk-toggleable__content pre {margin: 0.2em;color: black;border-radius: 0.25em;background-color: #f0f8ff;}#sk-abf420d9-0ef4-464b-83eb-3bbf3480f87a input.sk-toggleable__control:checked~div.sk-toggleable__content {max-height: 200px;max-width: 100%;overflow: auto;}#sk-abf420d9-0ef4-464b-83eb-3bbf3480f87a input.sk-toggleable__control:checked~label.sk-toggleable__label-arrow:before {content: \"▾\";}#sk-abf420d9-0ef4-464b-83eb-3bbf3480f87a div.sk-estimator input.sk-toggleable__control:checked~label.sk-toggleable__label {background-color: #d4ebff;}#sk-abf420d9-0ef4-464b-83eb-3bbf3480f87a div.sk-label input.sk-toggleable__control:checked~label.sk-toggleable__label {background-color: #d4ebff;}#sk-abf420d9-0ef4-464b-83eb-3bbf3480f87a input.sk-hidden--visually {border: 0;clip: rect(1px 1px 1px 1px);clip: rect(1px, 1px, 1px, 1px);height: 1px;margin: -1px;overflow: hidden;padding: 0;position: absolute;width: 1px;}#sk-abf420d9-0ef4-464b-83eb-3bbf3480f87a div.sk-estimator {font-family: monospace;background-color: #f0f8ff;border: 1px dotted black;border-radius: 0.25em;box-sizing: border-box;margin-bottom: 0.5em;}#sk-abf420d9-0ef4-464b-83eb-3bbf3480f87a div.sk-estimator:hover {background-color: #d4ebff;}#sk-abf420d9-0ef4-464b-83eb-3bbf3480f87a div.sk-parallel-item::after {content: \"\";width: 100%;border-bottom: 1px solid gray;flex-grow: 1;}#sk-abf420d9-0ef4-464b-83eb-3bbf3480f87a div.sk-label:hover label.sk-toggleable__label {background-color: #d4ebff;}#sk-abf420d9-0ef4-464b-83eb-3bbf3480f87a div.sk-serial::before {content: \"\";position: absolute;border-left: 1px solid gray;box-sizing: border-box;top: 2em;bottom: 0;left: 50%;}#sk-abf420d9-0ef4-464b-83eb-3bbf3480f87a div.sk-serial {display: flex;flex-direction: column;align-items: center;background-color: white;padding-right: 0.2em;padding-left: 0.2em;}#sk-abf420d9-0ef4-464b-83eb-3bbf3480f87a div.sk-item {z-index: 1;}#sk-abf420d9-0ef4-464b-83eb-3bbf3480f87a div.sk-parallel {display: flex;align-items: stretch;justify-content: center;background-color: white;}#sk-abf420d9-0ef4-464b-83eb-3bbf3480f87a div.sk-parallel::before {content: \"\";position: absolute;border-left: 1px solid gray;box-sizing: border-box;top: 2em;bottom: 0;left: 50%;}#sk-abf420d9-0ef4-464b-83eb-3bbf3480f87a div.sk-parallel-item {display: flex;flex-direction: column;position: relative;background-color: white;}#sk-abf420d9-0ef4-464b-83eb-3bbf3480f87a div.sk-parallel-item:first-child::after {align-self: flex-end;width: 50%;}#sk-abf420d9-0ef4-464b-83eb-3bbf3480f87a div.sk-parallel-item:last-child::after {align-self: flex-start;width: 50%;}#sk-abf420d9-0ef4-464b-83eb-3bbf3480f87a div.sk-parallel-item:only-child::after {width: 0;}#sk-abf420d9-0ef4-464b-83eb-3bbf3480f87a div.sk-dashed-wrapped {border: 1px dashed gray;margin: 0 0.4em 0.5em 0.4em;box-sizing: border-box;padding-bottom: 0.4em;background-color: white;position: relative;}#sk-abf420d9-0ef4-464b-83eb-3bbf3480f87a div.sk-label label {font-family: monospace;font-weight: bold;background-color: white;display: inline-block;line-height: 1.2em;}#sk-abf420d9-0ef4-464b-83eb-3bbf3480f87a div.sk-label-container {position: relative;z-index: 2;text-align: center;}#sk-abf420d9-0ef4-464b-83eb-3bbf3480f87a div.sk-container {/* jupyter's `normalize.less` sets `[hidden] { display: none; }` but bootstrap.min.css set `[hidden] { display: none !important; }` so we also need the `!important` here to be able to override the default hidden behavior on the sphinx rendered scikit-learn.org. See: https://github.com/scikit-learn/scikit-learn/issues/21755 */display: inline-block !important;position: relative;}#sk-abf420d9-0ef4-464b-83eb-3bbf3480f87a div.sk-text-repr-fallback {display: none;}</style><div id=\"sk-abf420d9-0ef4-464b-83eb-3bbf3480f87a\" class=\"sk-top-container\"><div class=\"sk-text-repr-fallback\"><pre>Pipeline(steps=[(&#x27;standardscaler&#x27;, StandardScaler()),\n",
       "                (&#x27;logisticregression&#x27;, LogisticRegression(C=1, max_iter=1000))])</pre><b>Please rerun this cell to show the HTML repr or trust the notebook.</b></div><div class=\"sk-container\" hidden><div class=\"sk-item sk-dashed-wrapped\"><div class=\"sk-label-container\"><div class=\"sk-label sk-toggleable\"><input class=\"sk-toggleable__control sk-hidden--visually\" id=\"64d0c962-54fc-446d-80cb-ab75dbe45899\" type=\"checkbox\" ><label for=\"64d0c962-54fc-446d-80cb-ab75dbe45899\" class=\"sk-toggleable__label sk-toggleable__label-arrow\">Pipeline</label><div class=\"sk-toggleable__content\"><pre>Pipeline(steps=[(&#x27;standardscaler&#x27;, StandardScaler()),\n",
       "                (&#x27;logisticregression&#x27;, LogisticRegression(C=1, max_iter=1000))])</pre></div></div></div><div class=\"sk-serial\"><div class=\"sk-item\"><div class=\"sk-estimator sk-toggleable\"><input class=\"sk-toggleable__control sk-hidden--visually\" id=\"a19793bf-2ad1-42d5-be97-180ba3be0a27\" type=\"checkbox\" ><label for=\"a19793bf-2ad1-42d5-be97-180ba3be0a27\" class=\"sk-toggleable__label sk-toggleable__label-arrow\">StandardScaler</label><div class=\"sk-toggleable__content\"><pre>StandardScaler()</pre></div></div></div><div class=\"sk-item\"><div class=\"sk-estimator sk-toggleable\"><input class=\"sk-toggleable__control sk-hidden--visually\" id=\"a0f384c3-2967-46a1-b4e3-0f0e9ef83b91\" type=\"checkbox\" ><label for=\"a0f384c3-2967-46a1-b4e3-0f0e9ef83b91\" class=\"sk-toggleable__label sk-toggleable__label-arrow\">LogisticRegression</label><div class=\"sk-toggleable__content\"><pre>LogisticRegression(C=1, max_iter=1000)</pre></div></div></div></div></div></div></div>"
      ],
      "text/plain": [
       "Pipeline(steps=[('standardscaler', StandardScaler()),\n",
       "                ('logisticregression', LogisticRegression(C=1, max_iter=1000))])"
      ]
     },
     "execution_count": 29,
     "metadata": {},
     "output_type": "execute_result"
    }
   ],
   "source": [
    "grid.best_estimator_"
   ]
  },
  {
   "cell_type": "code",
   "execution_count": 30,
   "id": "78f89903",
   "metadata": {},
   "outputs": [
    {
     "data": {
      "text/html": [
       "<style>#sk-f5b76097-f9d4-4be6-a90b-7de81fe09d05 {color: black;background-color: white;}#sk-f5b76097-f9d4-4be6-a90b-7de81fe09d05 pre{padding: 0;}#sk-f5b76097-f9d4-4be6-a90b-7de81fe09d05 div.sk-toggleable {background-color: white;}#sk-f5b76097-f9d4-4be6-a90b-7de81fe09d05 label.sk-toggleable__label {cursor: pointer;display: block;width: 100%;margin-bottom: 0;padding: 0.3em;box-sizing: border-box;text-align: center;}#sk-f5b76097-f9d4-4be6-a90b-7de81fe09d05 label.sk-toggleable__label-arrow:before {content: \"▸\";float: left;margin-right: 0.25em;color: #696969;}#sk-f5b76097-f9d4-4be6-a90b-7de81fe09d05 label.sk-toggleable__label-arrow:hover:before {color: black;}#sk-f5b76097-f9d4-4be6-a90b-7de81fe09d05 div.sk-estimator:hover label.sk-toggleable__label-arrow:before {color: black;}#sk-f5b76097-f9d4-4be6-a90b-7de81fe09d05 div.sk-toggleable__content {max-height: 0;max-width: 0;overflow: hidden;text-align: left;background-color: #f0f8ff;}#sk-f5b76097-f9d4-4be6-a90b-7de81fe09d05 div.sk-toggleable__content pre {margin: 0.2em;color: black;border-radius: 0.25em;background-color: #f0f8ff;}#sk-f5b76097-f9d4-4be6-a90b-7de81fe09d05 input.sk-toggleable__control:checked~div.sk-toggleable__content {max-height: 200px;max-width: 100%;overflow: auto;}#sk-f5b76097-f9d4-4be6-a90b-7de81fe09d05 input.sk-toggleable__control:checked~label.sk-toggleable__label-arrow:before {content: \"▾\";}#sk-f5b76097-f9d4-4be6-a90b-7de81fe09d05 div.sk-estimator input.sk-toggleable__control:checked~label.sk-toggleable__label {background-color: #d4ebff;}#sk-f5b76097-f9d4-4be6-a90b-7de81fe09d05 div.sk-label input.sk-toggleable__control:checked~label.sk-toggleable__label {background-color: #d4ebff;}#sk-f5b76097-f9d4-4be6-a90b-7de81fe09d05 input.sk-hidden--visually {border: 0;clip: rect(1px 1px 1px 1px);clip: rect(1px, 1px, 1px, 1px);height: 1px;margin: -1px;overflow: hidden;padding: 0;position: absolute;width: 1px;}#sk-f5b76097-f9d4-4be6-a90b-7de81fe09d05 div.sk-estimator {font-family: monospace;background-color: #f0f8ff;border: 1px dotted black;border-radius: 0.25em;box-sizing: border-box;margin-bottom: 0.5em;}#sk-f5b76097-f9d4-4be6-a90b-7de81fe09d05 div.sk-estimator:hover {background-color: #d4ebff;}#sk-f5b76097-f9d4-4be6-a90b-7de81fe09d05 div.sk-parallel-item::after {content: \"\";width: 100%;border-bottom: 1px solid gray;flex-grow: 1;}#sk-f5b76097-f9d4-4be6-a90b-7de81fe09d05 div.sk-label:hover label.sk-toggleable__label {background-color: #d4ebff;}#sk-f5b76097-f9d4-4be6-a90b-7de81fe09d05 div.sk-serial::before {content: \"\";position: absolute;border-left: 1px solid gray;box-sizing: border-box;top: 2em;bottom: 0;left: 50%;}#sk-f5b76097-f9d4-4be6-a90b-7de81fe09d05 div.sk-serial {display: flex;flex-direction: column;align-items: center;background-color: white;padding-right: 0.2em;padding-left: 0.2em;}#sk-f5b76097-f9d4-4be6-a90b-7de81fe09d05 div.sk-item {z-index: 1;}#sk-f5b76097-f9d4-4be6-a90b-7de81fe09d05 div.sk-parallel {display: flex;align-items: stretch;justify-content: center;background-color: white;}#sk-f5b76097-f9d4-4be6-a90b-7de81fe09d05 div.sk-parallel::before {content: \"\";position: absolute;border-left: 1px solid gray;box-sizing: border-box;top: 2em;bottom: 0;left: 50%;}#sk-f5b76097-f9d4-4be6-a90b-7de81fe09d05 div.sk-parallel-item {display: flex;flex-direction: column;position: relative;background-color: white;}#sk-f5b76097-f9d4-4be6-a90b-7de81fe09d05 div.sk-parallel-item:first-child::after {align-self: flex-end;width: 50%;}#sk-f5b76097-f9d4-4be6-a90b-7de81fe09d05 div.sk-parallel-item:last-child::after {align-self: flex-start;width: 50%;}#sk-f5b76097-f9d4-4be6-a90b-7de81fe09d05 div.sk-parallel-item:only-child::after {width: 0;}#sk-f5b76097-f9d4-4be6-a90b-7de81fe09d05 div.sk-dashed-wrapped {border: 1px dashed gray;margin: 0 0.4em 0.5em 0.4em;box-sizing: border-box;padding-bottom: 0.4em;background-color: white;position: relative;}#sk-f5b76097-f9d4-4be6-a90b-7de81fe09d05 div.sk-label label {font-family: monospace;font-weight: bold;background-color: white;display: inline-block;line-height: 1.2em;}#sk-f5b76097-f9d4-4be6-a90b-7de81fe09d05 div.sk-label-container {position: relative;z-index: 2;text-align: center;}#sk-f5b76097-f9d4-4be6-a90b-7de81fe09d05 div.sk-container {/* jupyter's `normalize.less` sets `[hidden] { display: none; }` but bootstrap.min.css set `[hidden] { display: none !important; }` so we also need the `!important` here to be able to override the default hidden behavior on the sphinx rendered scikit-learn.org. See: https://github.com/scikit-learn/scikit-learn/issues/21755 */display: inline-block !important;position: relative;}#sk-f5b76097-f9d4-4be6-a90b-7de81fe09d05 div.sk-text-repr-fallback {display: none;}</style><div id=\"sk-f5b76097-f9d4-4be6-a90b-7de81fe09d05\" class=\"sk-top-container\"><div class=\"sk-text-repr-fallback\"><pre>LogisticRegression(C=1, max_iter=1000)</pre><b>Please rerun this cell to show the HTML repr or trust the notebook.</b></div><div class=\"sk-container\" hidden><div class=\"sk-item\"><div class=\"sk-estimator sk-toggleable\"><input class=\"sk-toggleable__control sk-hidden--visually\" id=\"15fbfe25-9b78-4914-8019-6d0b4f344c46\" type=\"checkbox\" checked><label for=\"15fbfe25-9b78-4914-8019-6d0b4f344c46\" class=\"sk-toggleable__label sk-toggleable__label-arrow\">LogisticRegression</label><div class=\"sk-toggleable__content\"><pre>LogisticRegression(C=1, max_iter=1000)</pre></div></div></div></div></div>"
      ],
      "text/plain": [
       "LogisticRegression(C=1, max_iter=1000)"
      ]
     },
     "execution_count": 30,
     "metadata": {},
     "output_type": "execute_result"
    }
   ],
   "source": [
    "grid.best_estimator_.named_steps['logisticregression']"
   ]
  },
  {
   "cell_type": "code",
   "execution_count": 31,
   "id": "1f39df5f",
   "metadata": {},
   "outputs": [
    {
     "data": {
      "text/plain": [
       "array([[-0.43570655, -0.34266946, -0.40809443, -0.5344574 , -0.14971847,\n",
       "         0.61034122, -0.72634347, -0.78538827,  0.03886087,  0.27497198,\n",
       "        -1.29780109,  0.04926005, -0.67336941, -0.93447426, -0.13939555,\n",
       "         0.45032641, -0.13009864, -0.10144273,  0.43432027,  0.71596578,\n",
       "        -1.09068862, -1.09463976, -0.85183755, -1.06406198, -0.74316099,\n",
       "         0.07252425, -0.82323903, -0.65321239, -0.64379499, -0.42026013]])"
      ]
     },
     "execution_count": 31,
     "metadata": {},
     "output_type": "execute_result"
    }
   ],
   "source": [
    "grid.best_estimator_.named_steps['logisticregression'].coef_"
   ]
  },
  {
   "cell_type": "code",
   "execution_count": 33,
   "id": "a5ecbefa",
   "metadata": {},
   "outputs": [],
   "source": [
    "from sklearn.datasets import load_boston\n",
    "boston = load_boston()\n",
    "X_train, X_test, y_train, y_test = train_test_split(boston.data, boston.target, \n",
    "                                                   random_state=0)\n",
    "\n",
    "from sklearn.preprocessing import PolynomialFeatures\n",
    "pipe = make_pipeline(\n",
    "    StandardScaler(),\n",
    "    PolynomialFeatures(), \n",
    "    Ridge())"
   ]
  },
  {
   "cell_type": "code",
   "execution_count": 34,
   "id": "4807f0d3",
   "metadata": {},
   "outputs": [],
   "source": [
    "param_grid = {'polynomialfeatures__degree': [1,2,3], \n",
    "             'ridge__alpha': [0.001, 0.01, 0.1, 1, 10, 100]}"
   ]
  },
  {
   "cell_type": "code",
   "execution_count": 35,
   "id": "a1d92e32",
   "metadata": {},
   "outputs": [
    {
     "data": {
      "text/html": [
       "<style>#sk-c3e348f2-189b-4104-aab3-0d688becba60 {color: black;background-color: white;}#sk-c3e348f2-189b-4104-aab3-0d688becba60 pre{padding: 0;}#sk-c3e348f2-189b-4104-aab3-0d688becba60 div.sk-toggleable {background-color: white;}#sk-c3e348f2-189b-4104-aab3-0d688becba60 label.sk-toggleable__label {cursor: pointer;display: block;width: 100%;margin-bottom: 0;padding: 0.3em;box-sizing: border-box;text-align: center;}#sk-c3e348f2-189b-4104-aab3-0d688becba60 label.sk-toggleable__label-arrow:before {content: \"▸\";float: left;margin-right: 0.25em;color: #696969;}#sk-c3e348f2-189b-4104-aab3-0d688becba60 label.sk-toggleable__label-arrow:hover:before {color: black;}#sk-c3e348f2-189b-4104-aab3-0d688becba60 div.sk-estimator:hover label.sk-toggleable__label-arrow:before {color: black;}#sk-c3e348f2-189b-4104-aab3-0d688becba60 div.sk-toggleable__content {max-height: 0;max-width: 0;overflow: hidden;text-align: left;background-color: #f0f8ff;}#sk-c3e348f2-189b-4104-aab3-0d688becba60 div.sk-toggleable__content pre {margin: 0.2em;color: black;border-radius: 0.25em;background-color: #f0f8ff;}#sk-c3e348f2-189b-4104-aab3-0d688becba60 input.sk-toggleable__control:checked~div.sk-toggleable__content {max-height: 200px;max-width: 100%;overflow: auto;}#sk-c3e348f2-189b-4104-aab3-0d688becba60 input.sk-toggleable__control:checked~label.sk-toggleable__label-arrow:before {content: \"▾\";}#sk-c3e348f2-189b-4104-aab3-0d688becba60 div.sk-estimator input.sk-toggleable__control:checked~label.sk-toggleable__label {background-color: #d4ebff;}#sk-c3e348f2-189b-4104-aab3-0d688becba60 div.sk-label input.sk-toggleable__control:checked~label.sk-toggleable__label {background-color: #d4ebff;}#sk-c3e348f2-189b-4104-aab3-0d688becba60 input.sk-hidden--visually {border: 0;clip: rect(1px 1px 1px 1px);clip: rect(1px, 1px, 1px, 1px);height: 1px;margin: -1px;overflow: hidden;padding: 0;position: absolute;width: 1px;}#sk-c3e348f2-189b-4104-aab3-0d688becba60 div.sk-estimator {font-family: monospace;background-color: #f0f8ff;border: 1px dotted black;border-radius: 0.25em;box-sizing: border-box;margin-bottom: 0.5em;}#sk-c3e348f2-189b-4104-aab3-0d688becba60 div.sk-estimator:hover {background-color: #d4ebff;}#sk-c3e348f2-189b-4104-aab3-0d688becba60 div.sk-parallel-item::after {content: \"\";width: 100%;border-bottom: 1px solid gray;flex-grow: 1;}#sk-c3e348f2-189b-4104-aab3-0d688becba60 div.sk-label:hover label.sk-toggleable__label {background-color: #d4ebff;}#sk-c3e348f2-189b-4104-aab3-0d688becba60 div.sk-serial::before {content: \"\";position: absolute;border-left: 1px solid gray;box-sizing: border-box;top: 2em;bottom: 0;left: 50%;}#sk-c3e348f2-189b-4104-aab3-0d688becba60 div.sk-serial {display: flex;flex-direction: column;align-items: center;background-color: white;padding-right: 0.2em;padding-left: 0.2em;}#sk-c3e348f2-189b-4104-aab3-0d688becba60 div.sk-item {z-index: 1;}#sk-c3e348f2-189b-4104-aab3-0d688becba60 div.sk-parallel {display: flex;align-items: stretch;justify-content: center;background-color: white;}#sk-c3e348f2-189b-4104-aab3-0d688becba60 div.sk-parallel::before {content: \"\";position: absolute;border-left: 1px solid gray;box-sizing: border-box;top: 2em;bottom: 0;left: 50%;}#sk-c3e348f2-189b-4104-aab3-0d688becba60 div.sk-parallel-item {display: flex;flex-direction: column;position: relative;background-color: white;}#sk-c3e348f2-189b-4104-aab3-0d688becba60 div.sk-parallel-item:first-child::after {align-self: flex-end;width: 50%;}#sk-c3e348f2-189b-4104-aab3-0d688becba60 div.sk-parallel-item:last-child::after {align-self: flex-start;width: 50%;}#sk-c3e348f2-189b-4104-aab3-0d688becba60 div.sk-parallel-item:only-child::after {width: 0;}#sk-c3e348f2-189b-4104-aab3-0d688becba60 div.sk-dashed-wrapped {border: 1px dashed gray;margin: 0 0.4em 0.5em 0.4em;box-sizing: border-box;padding-bottom: 0.4em;background-color: white;position: relative;}#sk-c3e348f2-189b-4104-aab3-0d688becba60 div.sk-label label {font-family: monospace;font-weight: bold;background-color: white;display: inline-block;line-height: 1.2em;}#sk-c3e348f2-189b-4104-aab3-0d688becba60 div.sk-label-container {position: relative;z-index: 2;text-align: center;}#sk-c3e348f2-189b-4104-aab3-0d688becba60 div.sk-container {/* jupyter's `normalize.less` sets `[hidden] { display: none; }` but bootstrap.min.css set `[hidden] { display: none !important; }` so we also need the `!important` here to be able to override the default hidden behavior on the sphinx rendered scikit-learn.org. See: https://github.com/scikit-learn/scikit-learn/issues/21755 */display: inline-block !important;position: relative;}#sk-c3e348f2-189b-4104-aab3-0d688becba60 div.sk-text-repr-fallback {display: none;}</style><div id=\"sk-c3e348f2-189b-4104-aab3-0d688becba60\" class=\"sk-top-container\"><div class=\"sk-text-repr-fallback\"><pre>GridSearchCV(cv=5,\n",
       "             estimator=Pipeline(steps=[(&#x27;standardscaler&#x27;, StandardScaler()),\n",
       "                                       (&#x27;polynomialfeatures&#x27;,\n",
       "                                        PolynomialFeatures()),\n",
       "                                       (&#x27;ridge&#x27;, Ridge())]),\n",
       "             n_jobs=-1,\n",
       "             param_grid={&#x27;polynomialfeatures__degree&#x27;: [1, 2, 3],\n",
       "                         &#x27;ridge__alpha&#x27;: [0.001, 0.01, 0.1, 1, 10, 100]})</pre><b>Please rerun this cell to show the HTML repr or trust the notebook.</b></div><div class=\"sk-container\" hidden><div class=\"sk-item sk-dashed-wrapped\"><div class=\"sk-label-container\"><div class=\"sk-label sk-toggleable\"><input class=\"sk-toggleable__control sk-hidden--visually\" id=\"e7a448ef-86c9-4a3d-82fd-4bd65dd5aa28\" type=\"checkbox\" ><label for=\"e7a448ef-86c9-4a3d-82fd-4bd65dd5aa28\" class=\"sk-toggleable__label sk-toggleable__label-arrow\">GridSearchCV</label><div class=\"sk-toggleable__content\"><pre>GridSearchCV(cv=5,\n",
       "             estimator=Pipeline(steps=[(&#x27;standardscaler&#x27;, StandardScaler()),\n",
       "                                       (&#x27;polynomialfeatures&#x27;,\n",
       "                                        PolynomialFeatures()),\n",
       "                                       (&#x27;ridge&#x27;, Ridge())]),\n",
       "             n_jobs=-1,\n",
       "             param_grid={&#x27;polynomialfeatures__degree&#x27;: [1, 2, 3],\n",
       "                         &#x27;ridge__alpha&#x27;: [0.001, 0.01, 0.1, 1, 10, 100]})</pre></div></div></div><div class=\"sk-parallel\"><div class=\"sk-parallel-item\"><div class=\"sk-item\"><div class=\"sk-serial\"><div class=\"sk-item\"><div class=\"sk-serial\"><div class=\"sk-item\"><div class=\"sk-estimator sk-toggleable\"><input class=\"sk-toggleable__control sk-hidden--visually\" id=\"429ab271-5a5c-42f2-9944-d817e638f4f6\" type=\"checkbox\" ><label for=\"429ab271-5a5c-42f2-9944-d817e638f4f6\" class=\"sk-toggleable__label sk-toggleable__label-arrow\">StandardScaler</label><div class=\"sk-toggleable__content\"><pre>StandardScaler()</pre></div></div></div><div class=\"sk-item\"><div class=\"sk-estimator sk-toggleable\"><input class=\"sk-toggleable__control sk-hidden--visually\" id=\"f5a2164a-36fd-4a8f-885e-c05361b3627e\" type=\"checkbox\" ><label for=\"f5a2164a-36fd-4a8f-885e-c05361b3627e\" class=\"sk-toggleable__label sk-toggleable__label-arrow\">PolynomialFeatures</label><div class=\"sk-toggleable__content\"><pre>PolynomialFeatures()</pre></div></div></div><div class=\"sk-item\"><div class=\"sk-estimator sk-toggleable\"><input class=\"sk-toggleable__control sk-hidden--visually\" id=\"368342ef-64d4-4a9f-b9a3-6bcf3db39506\" type=\"checkbox\" ><label for=\"368342ef-64d4-4a9f-b9a3-6bcf3db39506\" class=\"sk-toggleable__label sk-toggleable__label-arrow\">Ridge</label><div class=\"sk-toggleable__content\"><pre>Ridge()</pre></div></div></div></div></div></div></div></div></div></div></div></div>"
      ],
      "text/plain": [
       "GridSearchCV(cv=5,\n",
       "             estimator=Pipeline(steps=[('standardscaler', StandardScaler()),\n",
       "                                       ('polynomialfeatures',\n",
       "                                        PolynomialFeatures()),\n",
       "                                       ('ridge', Ridge())]),\n",
       "             n_jobs=-1,\n",
       "             param_grid={'polynomialfeatures__degree': [1, 2, 3],\n",
       "                         'ridge__alpha': [0.001, 0.01, 0.1, 1, 10, 100]})"
      ]
     },
     "execution_count": 35,
     "metadata": {},
     "output_type": "execute_result"
    }
   ],
   "source": [
    "grid = GridSearchCV(pipe, param_grid=param_grid, cv=5, n_jobs=-1)\n",
    "grid.fit(X_train, y_train)"
   ]
  },
  {
   "cell_type": "code",
   "execution_count": 36,
   "id": "15ece463",
   "metadata": {},
   "outputs": [
    {
     "data": {
      "text/plain": [
       "{'polynomialfeatures__degree': 2, 'ridge__alpha': 10}"
      ]
     },
     "execution_count": 36,
     "metadata": {},
     "output_type": "execute_result"
    }
   ],
   "source": [
    "grid.best_params_"
   ]
  },
  {
   "cell_type": "code",
   "execution_count": 37,
   "id": "ca5d86a4",
   "metadata": {},
   "outputs": [
    {
     "data": {
      "text/plain": [
       "0.768304546410014"
      ]
     },
     "execution_count": 37,
     "metadata": {},
     "output_type": "execute_result"
    }
   ],
   "source": [
    "grid.score(X_test, y_test)"
   ]
  },
  {
   "cell_type": "code",
   "execution_count": 38,
   "id": "2be3b40f",
   "metadata": {},
   "outputs": [
    {
     "data": {
      "text/plain": [
       "0.6272671927504456"
      ]
     },
     "execution_count": 38,
     "metadata": {},
     "output_type": "execute_result"
    }
   ],
   "source": [
    "param_grid = {'ridge__alpha': [0.001, 0.01, 0.1, 1, 10, 100]}\n",
    "pipe = make_pipeline(StandardScaler(), Ridge())\n",
    "grid = GridSearchCV(pipe, param_grid, cv=5)\n",
    "grid.fit(X_train, y_train)\n",
    "grid.score(X_test, y_test)"
   ]
  },
  {
   "cell_type": "code",
   "execution_count": 39,
   "id": "717b6bff",
   "metadata": {},
   "outputs": [],
   "source": [
    "pipe = Pipeline([('preprocessing', StandardScaler()), ('classifier', SVC())])"
   ]
  },
  {
   "cell_type": "code",
   "execution_count": 40,
   "id": "628aa11d",
   "metadata": {},
   "outputs": [],
   "source": [
    "from sklearn.ensemble import RandomForestClassifier\n",
    "\n",
    "param_grid = [\n",
    "    {'classifier': [SVC()], 'preprocessing': [StandardScaler()], \n",
    "    'classifier__gamma': [0.001, 0.01, 0.1, 1, 10, 100],\n",
    "    'classifier__C': [0.001, 0.01, 0.1, 1, 10, 100]},\n",
    "    {'classifier': [RandomForestClassifier(n_estimators=100)], \n",
    "    'preprocessing': [None], 'classifier__max_features': [1,2,3]}\n",
    "]"
   ]
  },
  {
   "cell_type": "code",
   "execution_count": 41,
   "id": "f779ab8a",
   "metadata": {},
   "outputs": [
    {
     "data": {
      "text/plain": [
       "({'classifier': SVC(C=10, gamma=0.01),\n",
       "  'classifier__C': 10,\n",
       "  'classifier__gamma': 0.01,\n",
       "  'preprocessing': StandardScaler()},\n",
       " 0.9858823529411765,\n",
       " 0.9790209790209791)"
      ]
     },
     "execution_count": 41,
     "metadata": {},
     "output_type": "execute_result"
    }
   ],
   "source": [
    "X_train, X_test, y_train, y_test = train_test_split(\n",
    "    cancer.data, cancer.target, random_state=0)\n",
    "grid = GridSearchCV(pipe, param_grid, cv=5)\n",
    "grid.fit(X_train, y_train)\n",
    "grid.best_params_, grid.best_score_, grid.score(X_test, y_test)"
   ]
  },
  {
   "cell_type": "code",
   "execution_count": null,
   "id": "30acac0d",
   "metadata": {},
   "outputs": [],
   "source": []
  }
 ],
 "metadata": {
  "kernelspec": {
   "display_name": "machine-learning",
   "language": "python",
   "name": "machine-learning"
  },
  "language_info": {
   "codemirror_mode": {
    "name": "ipython",
    "version": 3
   },
   "file_extension": ".py",
   "mimetype": "text/x-python",
   "name": "python",
   "nbconvert_exporter": "python",
   "pygments_lexer": "ipython3",
   "version": "3.7.11"
  }
 },
 "nbformat": 4,
 "nbformat_minor": 5
}
